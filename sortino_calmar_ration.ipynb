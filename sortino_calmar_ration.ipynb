{
 "cells": [
  {
   "cell_type": "code",
   "execution_count": 1,
   "id": "cfb5b834-4691-4d28-8031-31ed5b54cace",
   "metadata": {},
   "outputs": [],
   "source": [
    "import pandas as pd\n",
    "import numpy as np\n",
    "import yfinance as yf"
   ]
  },
  {
   "cell_type": "code",
   "execution_count": 3,
   "id": "5b125987-5598-4f8b-b87d-e6ffbdca8ecf",
   "metadata": {},
   "outputs": [
    {
     "name": "stderr",
     "output_type": "stream",
     "text": [
      "[*********************100%%**********************]  1 of 1 completed\n",
      "\n",
      "1 Failed download:\n",
      "['ES=F']: ConnectionError(MaxRetryError(\"HTTPSConnectionPool(host='fc.yahoo.com', port=443): Max retries exceeded with url: / (Caused by NewConnectionError('<urllib3.connection.HTTPSConnection object at 0x11feec290>: Failed to establish a new connection: [Errno 8] nodename nor servname provided, or not known'))\"))\n",
      "[*********************100%%**********************]  1 of 1 completed\n",
      "\n",
      "1 Failed download:\n",
      "['ZN=F']: ConnectionError(MaxRetryError(\"HTTPSConnectionPool(host='fc.yahoo.com', port=443): Max retries exceeded with url: / (Caused by NewConnectionError('<urllib3.connection.HTTPSConnection object at 0x13a836910>: Failed to establish a new connection: [Errno 8] nodename nor servname provided, or not known'))\"))\n"
     ]
    }
   ],
   "source": [
    "# mixed portfolio with 60% weight in S&P 500 futures (ES=F) and 40% weight in 10-year Treasury futures (ZN=F)\n",
    "\n",
    "import pandas_datareader as pdr\n",
    "\n",
    "sp500_futures = yf.download('ES=F')['Adj Close']\n",
    "treasury_futures = yf.download('ZN=F')['Adj Close']\n",
    "data = pd.DataFrame({'treasury_futures': treasury_futures , 'sp500_futures': sp500_futures}).dropna()\n",
    "\n",
    "# Log returns\n",
    "data['Log Returns'] = np.log(data['treasury_futures']/data['treasury_futures'].shift(1)) * 0.4 + np.log(data['sp500_futures']/data['sp500_futures'].shift(1)) * 0.6\n",
    "\n",
    "# Volatility\n",
    "volatility = data['Log Returns'].std()\n",
    "\n",
    "#Annualized returns and volatility\n",
    "annualized_return = data['Log Returns'].mean() * np.sqrt(252) * np.sqrt(10)\n",
    "annualized_volatility = volatility * np.sqrt(252) * np.sqrt(10)"
   ]
  },
  {
   "cell_type": "code",
   "execution_count": null,
   "id": "c92178ab-dcc9-4497-b0ab-afc528349e59",
   "metadata": {},
   "outputs": [],
   "source": [
    "data"
   ]
  },
  {
   "cell_type": "code",
   "execution_count": 6,
   "id": "2999b76c-079d-4b6d-9427-55c5a499639d",
   "metadata": {},
   "outputs": [
    {
     "data": {
      "text/html": [
       "<div>\n",
       "<style scoped>\n",
       "    .dataframe tbody tr th:only-of-type {\n",
       "        vertical-align: middle;\n",
       "    }\n",
       "\n",
       "    .dataframe tbody tr th {\n",
       "        vertical-align: top;\n",
       "    }\n",
       "\n",
       "    .dataframe thead th {\n",
       "        text-align: right;\n",
       "    }\n",
       "</style>\n",
       "<table border=\"1\" class=\"dataframe\">\n",
       "  <thead>\n",
       "    <tr style=\"text-align: right;\">\n",
       "      <th></th>\n",
       "      <th>treasury_futures</th>\n",
       "      <th>sp500_futures</th>\n",
       "      <th>Log Returns</th>\n",
       "    </tr>\n",
       "    <tr>\n",
       "      <th>Date</th>\n",
       "      <th></th>\n",
       "      <th></th>\n",
       "      <th></th>\n",
       "    </tr>\n",
       "  </thead>\n",
       "  <tbody>\n",
       "  </tbody>\n",
       "</table>\n",
       "</div>"
      ],
      "text/plain": [
       "Empty DataFrame\n",
       "Columns: [treasury_futures, sp500_futures, Log Returns]\n",
       "Index: []"
      ]
     },
     "execution_count": 6,
     "metadata": {},
     "output_type": "execute_result"
    }
   ],
   "source": [
    "# determining downside deviation\n",
    "downside_returns = data.loc[data['Log Returns'] < 0]\n",
    "downside_returns"
   ]
  },
  {
   "cell_type": "code",
   "execution_count": null,
   "id": "7762f515-6034-42b9-91cc-b61529ffa2f0",
   "metadata": {},
   "outputs": [],
   "source": []
  },
  {
   "cell_type": "code",
   "execution_count": null,
   "id": "3c523bbd-1b28-4021-9fb1-c3e82dfc8517",
   "metadata": {},
   "outputs": [],
   "source": []
  }
 ],
 "metadata": {
  "kernelspec": {
   "display_name": "venv",
   "language": "python",
   "name": "venv"
  },
  "language_info": {
   "codemirror_mode": {
    "name": "ipython",
    "version": 3
   },
   "file_extension": ".py",
   "mimetype": "text/x-python",
   "name": "python",
   "nbconvert_exporter": "python",
   "pygments_lexer": "ipython3",
   "version": "3.11.5"
  }
 },
 "nbformat": 4,
 "nbformat_minor": 5
}

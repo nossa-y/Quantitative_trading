{
 "cells": [
  {
   "cell_type": "code",
   "execution_count": 1,
   "id": "739d8e19-1e62-4b5e-b68b-1d75b14dd0d9",
   "metadata": {},
   "outputs": [
    {
     "name": "stderr",
     "output_type": "stream",
     "text": [
      "/var/folders/6d/m4g0vvg508z0xb6_c6h4qmfm0000gn/T/ipykernel_2996/2721483381.py:1: DeprecationWarning: \n",
      "Pyarrow will become a required dependency of pandas in the next major release of pandas (pandas 3.0),\n",
      "(to allow more performant data types, such as the Arrow string type, and better interoperability with other libraries)\n",
      "but was not found to be installed on your system.\n",
      "If this would cause problems for you,\n",
      "please provide us feedback at https://github.com/pandas-dev/pandas/issues/54466\n",
      "        \n",
      "  import pandas as pd\n"
     ]
    }
   ],
   "source": [
    "import pandas as pd\n",
    "import numpy as np\n",
    "import yfinance as yf"
   ]
  },
  {
   "cell_type": "code",
   "execution_count": 2,
   "id": "b072249b-8b17-42f1-9f6b-dfdb3d838a20",
   "metadata": {},
   "outputs": [
    {
     "name": "stderr",
     "output_type": "stream",
     "text": [
      "/Users/nossa/miniconda3/lib/python3.11/site-packages/yfinance/utils.py:775: FutureWarning: The 'unit' keyword in TimedeltaIndex construction is deprecated and will be removed in a future version. Use pd.to_timedelta instead.\n",
      "  df.index += _pd.TimedeltaIndex(dst_error_hours, 'h')\n",
      "[*********************100%%**********************]  1 of 1 completed\n"
     ]
    }
   ],
   "source": [
    "sp500_futures = yf.download('ES=F')"
   ]
  },
  {
   "cell_type": "code",
   "execution_count": 3,
   "id": "3febb6ab-2ae0-40ad-9574-daf17b21ef77",
   "metadata": {},
   "outputs": [],
   "source": [
    "# Log returns\n",
    "sp500_futures['Log Returns'] = np.log(sp500_futures['Adj Close']/sp500_futures['Adj Close'].shift(1))\n",
    "# Volatility\n",
    "volatility = sp500_futures['Log Returns'].std()\n",
    "#volatility = sum((np.exp(sp500_futures['Log Returns']) - np.exp(sp500_futures['Log Returns']).mean)**2)/(len(sp500_futures['Log Returns'])-1)"
   ]
  },
  {
   "cell_type": "code",
   "execution_count": 4,
   "id": "9c1af270-417c-4381-8caf-d457948ab070",
   "metadata": {},
   "outputs": [],
   "source": [
    "#Annualized returns and volatility\n",
    "annualized_return = sp500_futures['Log Returns'].mean() * np.sqrt(252)\n",
    "annualized_volatility = volatility * np.sqrt(252)"
   ]
  },
  {
   "cell_type": "code",
   "execution_count": 16,
   "id": "7ef26764-22e7-44c9-923b-ed2d84d7b3b2",
   "metadata": {},
   "outputs": [
    {
     "data": {
      "text/plain": [
       "Timestamp('2024-02-02 00:00:00')"
      ]
     },
     "execution_count": 16,
     "metadata": {},
     "output_type": "execute_result"
    }
   ],
   "source": [
    "sp500_futures.index[0]\n",
    "sp500_futures.index[-1]\n",
    "#sp500_start_date = str(sp500_futures.index[0])[:10]\n",
    "#risk_free_rate_series = yf.download('^IRX', start = sp500_start_date)['Adj Close']\n",
    "#risk_free_rate_series"
   ]
  },
  {
   "cell_type": "code",
   "execution_count": 6,
   "id": "81f08c67-dbfe-47cf-92ba-f84ff8875805",
   "metadata": {},
   "outputs": [
    {
     "name": "stderr",
     "output_type": "stream",
     "text": [
      "/Users/nossa/miniconda3/lib/python3.11/site-packages/yfinance/utils.py:775: FutureWarning: The 'unit' keyword in TimedeltaIndex construction is deprecated and will be removed in a future version. Use pd.to_timedelta instead.\n",
      "  df.index += _pd.TimedeltaIndex(dst_error_hours, 'h')\n",
      "[*********************100%%**********************]  1 of 1 completed\n"
     ]
    }
   ],
   "source": [
    "# Downloading Risk-Free Rate Series (3-month Treasury bill)\n",
    "sp500_start_date = str(sp500_futures.index[0])[:10]\n",
    "risk_free_rate_series = yf.download('^IRX', start = sp500_start_date)['Adj Close']\n",
    "risk_free_rate = risk_free_rate_series.mean() / 100"
   ]
  },
  {
   "cell_type": "code",
   "execution_count": 7,
   "id": "23fc75b9-c061-4b8e-ab0c-d2c5dc64153c",
   "metadata": {},
   "outputs": [
    {
     "name": "stdout",
     "output_type": "stream",
     "text": [
      "annualized_return: 0.003280855470044652\n",
      "risk_free_rate_annual: 0.015436050387678568\n",
      "annualized_volatility: 0.19655056187268022\n",
      "sharpe_ratio: -0.06184258544886634\n"
     ]
    }
   ],
   "source": [
    "sharpe_ratio = (annualized_return - risk_free_rate)/annualized_volatility\n",
    "print(\"annualized_return:\", annualized_return)\n",
    "print(\"risk_free_rate_annual:\", risk_free_rate)\n",
    "print(\"annualized_volatility:\", annualized_volatility)\n",
    "print(\"sharpe_ratio:\", sharpe_ratio)"
   ]
  },
  {
   "cell_type": "code",
   "execution_count": 8,
   "id": "7b1dd87e-77f5-4594-84f1-5ab11978d15f",
   "metadata": {},
   "outputs": [],
   "source": [
    "# sharpe ratio for the 10-year Treasury futures (ZN=F)"
   ]
  },
  {
   "cell_type": "code",
   "execution_count": 9,
   "id": "7f5122d8-e015-4ce0-8055-3c417d985650",
   "metadata": {},
   "outputs": [
    {
     "name": "stderr",
     "output_type": "stream",
     "text": [
      "/Users/nossa/miniconda3/lib/python3.11/site-packages/yfinance/utils.py:775: FutureWarning: The 'unit' keyword in TimedeltaIndex construction is deprecated and will be removed in a future version. Use pd.to_timedelta instead.\n",
      "  df.index += _pd.TimedeltaIndex(dst_error_hours, 'h')\n",
      "[*********************100%%**********************]  1 of 1 completed\n",
      "/Users/nossa/miniconda3/lib/python3.11/site-packages/yfinance/utils.py:775: FutureWarning: The 'unit' keyword in TimedeltaIndex construction is deprecated and will be removed in a future version. Use pd.to_timedelta instead.\n",
      "  df.index += _pd.TimedeltaIndex(dst_error_hours, 'h')\n",
      "[*********************100%%**********************]  1 of 1 completed"
     ]
    },
    {
     "name": "stdout",
     "output_type": "stream",
     "text": [
      "annualized_return: 0.0009533646193404857\n",
      "risk_free_rate_annual: 0.015436050387678568\n",
      "annualized_volatility: 0.19672608861670648\n",
      "sharpe_ratio: -0.07361853158457081\n"
     ]
    },
    {
     "name": "stderr",
     "output_type": "stream",
     "text": [
      "\n"
     ]
    }
   ],
   "source": [
    "# doawnloading futures\n",
    "treasury_futures = yf.download('ZN=F')\n",
    "\n",
    "# Log returns\n",
    "treasury_futures['Log Returns'] = np.log(treasury_futures['Adj Close']/treasury_futures['Adj Close'].shift(1))\n",
    "\n",
    "# Volatility\n",
    "volatility = treasury_futures['Log Returns'].std()\n",
    "\n",
    "#Annualized returns and volatility\n",
    "annualized_return = treasury_futures['Log Returns'].mean() * np.sqrt(252) * np.sqrt(10)\n",
    "annualized_volatility = volatility * np.sqrt(252) * np.sqrt(10)\n",
    "\n",
    "# Downloading Risk-Free Rate Series (3-month Treasury bill)\n",
    "treasury_start_date = str(sp500_futures.index[0])[:10]\n",
    "risk_free_rate_series = yf.download('^IRX', start = treasury_start_date)['Adj Close']\n",
    "risk_free_rate = risk_free_rate_series.mean() / 100\n",
    "\n",
    "sharpe_ratio = (annualized_return - risk_free_rate)/annualized_volatility\n",
    "print(\"annualized_return:\", annualized_return)\n",
    "print(\"risk_free_rate_annual:\", risk_free_rate)\n",
    "print(\"annualized_volatility:\", annualized_volatility)\n",
    "print(\"sharpe_ratio:\", sharpe_ratio) # greater in absolute value than sp500 => correct"
   ]
  },
  {
   "cell_type": "code",
   "execution_count": 10,
   "id": "4ef6e358-dad3-4ae4-bb75-5fdd5e7e5708",
   "metadata": {},
   "outputs": [
    {
     "name": "stderr",
     "output_type": "stream",
     "text": [
      "/Users/nossa/miniconda3/lib/python3.11/site-packages/yfinance/utils.py:775: FutureWarning: The 'unit' keyword in TimedeltaIndex construction is deprecated and will be removed in a future version. Use pd.to_timedelta instead.\n",
      "  df.index += _pd.TimedeltaIndex(dst_error_hours, 'h')\n",
      "[*********************100%%**********************]  1 of 1 completed\n",
      "/Users/nossa/miniconda3/lib/python3.11/site-packages/yfinance/utils.py:775: FutureWarning: The 'unit' keyword in TimedeltaIndex construction is deprecated and will be removed in a future version. Use pd.to_timedelta instead.\n",
      "  df.index += _pd.TimedeltaIndex(dst_error_hours, 'h')\n",
      "[*********************100%%**********************]  1 of 1 completed\n",
      "/Users/nossa/miniconda3/lib/python3.11/site-packages/yfinance/utils.py:775: FutureWarning: The 'unit' keyword in TimedeltaIndex construction is deprecated and will be removed in a future version. Use pd.to_timedelta instead.\n",
      "  df.index += _pd.TimedeltaIndex(dst_error_hours, 'h')\n",
      "[*********************100%%**********************]  1 of 1 completed"
     ]
    },
    {
     "name": "stdout",
     "output_type": "stream",
     "text": [
      "annualized_return: 0.006644188091548202\n",
      "risk_free_rate_annual: 0.015436050387678568\n",
      "annualized_volatility: 0.3609127058929428\n",
      "sharpe_ratio: -0.024360079743876595\n"
     ]
    },
    {
     "name": "stderr",
     "output_type": "stream",
     "text": [
      "\n"
     ]
    }
   ],
   "source": [
    "# mixed portfolio with 60% weight in S&P 500 futures (ES=F) and 40% weight in 10-year Treasury futures (ZN=F)\n",
    "# getting futures\n",
    "sp500_futures = yf.download('ES=F')['Adj Close']\n",
    "treasury_futures = yf.download('ZN=F')['Adj Close']\n",
    "data = pd.DataFrame({'treasury_futures': treasury_futures , 'sp500_futures': sp500_futures}).dropna()\n",
    "\n",
    "# Log returns\n",
    "data['Log Returns'] = np.log(data['treasury_futures']/data['treasury_futures'].shift(1)) * 0.4 + np.log(data['sp500_futures']/data['sp500_futures'].shift(1)) * 0.6\n",
    "\n",
    "# Volatility\n",
    "volatility = data['Log Returns'].std()\n",
    "\n",
    "#Annualized returns and volatility\n",
    "annualized_return = data['Log Returns'].mean() * np.sqrt(252) * np.sqrt(10)\n",
    "annualized_volatility = volatility * np.sqrt(252) * np.sqrt(10)\n",
    "\n",
    "# Downloading Risk-Free Rate Series (3-month Treasury bill)\n",
    "start_date = '2000-09-18'\n",
    "risk_free_rate_series = yf.download('^IRX', start = start_date)['Adj Close']\n",
    "risk_free_rate = risk_free_rate_series.mean() / 100\n",
    "\n",
    "sharpe_ratio = (annualized_return - risk_free_rate)/annualized_volatility\n",
    "print(\"annualized_return:\", annualized_return)\n",
    "print(\"risk_free_rate_annual:\", risk_free_rate)\n",
    "print(\"annualized_volatility:\", annualized_volatility)\n",
    "print(\"sharpe_ratio:\", sharpe_ratio) # greater than sp500 in absolute value => correct\n"
   ]
  },
  {
   "cell_type": "code",
   "execution_count": 20,
   "id": "52b3ade0-c4ff-459d-8e17-db746523f1ab",
   "metadata": {},
   "outputs": [
    {
     "name": "stderr",
     "output_type": "stream",
     "text": [
      "/Users/nossa/miniconda3/lib/python3.11/site-packages/yfinance/utils.py:775: FutureWarning: The 'unit' keyword in TimedeltaIndex construction is deprecated and will be removed in a future version. Use pd.to_timedelta instead.\n",
      "  df.index += _pd.TimedeltaIndex(dst_error_hours, 'h')\n",
      "[*********************100%%**********************]  1 of 1 completed\n",
      "/Users/nossa/miniconda3/lib/python3.11/site-packages/yfinance/utils.py:775: FutureWarning: The 'unit' keyword in TimedeltaIndex construction is deprecated and will be removed in a future version. Use pd.to_timedelta instead.\n",
      "  df.index += _pd.TimedeltaIndex(dst_error_hours, 'h')\n",
      "[*********************100%%**********************]  1 of 1 completed\n"
     ]
    },
    {
     "ename": "AttributeError",
     "evalue": "'function' object has no attribute 'mean'",
     "output_type": "error",
     "traceback": [
      "\u001b[0;31m---------------------------------------------------------------------------\u001b[0m",
      "\u001b[0;31mAttributeError\u001b[0m                            Traceback (most recent call last)",
      "Cell \u001b[0;32mIn[20], line 40\u001b[0m\n\u001b[1;32m     37\u001b[0m \u001b[38;5;66;03m# resample monthly inflation data to daily frequency (forward fill)\u001b[39;00m\n\u001b[1;32m     38\u001b[0m inflation_rate \u001b[38;5;241m=\u001b[39m inflation_rate\u001b[38;5;241m.\u001b[39mresample(\u001b[38;5;124m'\u001b[39m\u001b[38;5;124mD\u001b[39m\u001b[38;5;124m'\u001b[39m)\u001b[38;5;241m.\u001b[39mffill\n\u001b[0;32m---> 40\u001b[0m sharpe_ratio \u001b[38;5;241m=\u001b[39m (annualized_return \u001b[38;5;241m-\u001b[39m \u001b[43minflation_rate\u001b[49m\u001b[38;5;241;43m.\u001b[39;49m\u001b[43mmean\u001b[49m())\u001b[38;5;241m/\u001b[39mannualized_volatility\n\u001b[1;32m     41\u001b[0m \u001b[38;5;28mprint\u001b[39m(\u001b[38;5;124m\"\u001b[39m\u001b[38;5;124mannualized_return:\u001b[39m\u001b[38;5;124m\"\u001b[39m, annualized_return)\n\u001b[1;32m     42\u001b[0m \u001b[38;5;28mprint\u001b[39m(\u001b[38;5;124m\"\u001b[39m\u001b[38;5;124mrisk_free_rate_annual:\u001b[39m\u001b[38;5;124m\"\u001b[39m, risk_free_rate)\n",
      "\u001b[0;31mAttributeError\u001b[0m: 'function' object has no attribute 'mean'"
     ]
    }
   ],
   "source": [
    "# INFLATION ADJUSTED SHARPE RATIO\n",
    "# mixed portfolio with 60% weight in S&P 500 futures (ES=F) and 40% weight in 10-year Treasury futures (ZN=F)\n",
    "# getting futures\n",
    "\n",
    "import pandas_datareader as pdr\n",
    "\n",
    "sp500_futures = yf.download('ES=F')['Adj Close']\n",
    "treasury_futures = yf.download('ZN=F')['Adj Close']\n",
    "data = pd.DataFrame({'treasury_futures': treasury_futures , 'sp500_futures': sp500_futures}).dropna()\n",
    "\n",
    "# Log returns\n",
    "data['Log Returns'] = np.log(data['treasury_futures']/data['treasury_futures'].shift(1)) * 0.4 + np.log(data['sp500_futures']/data['sp500_futures'].shift(1)) * 0.6\n",
    "\n",
    "# Volatility\n",
    "volatility = data['Log Returns'].std()\n",
    "\n",
    "#Annualized returns and volatility\n",
    "annualized_return = data['Log Returns'].mean() * np.sqrt(252) * np.sqrt(10)\n",
    "annualized_volatility = volatility * np.sqrt(252) * np.sqrt(10)\n",
    "\n",
    "# data source: 'fred' (Federal Reserve Economic Data)\n",
    "data_source = 'fred'\n",
    "\n",
    "# series ID: Consumer Price Index for All Urban Consumers (CPIAUCSL)\n",
    "series_id = 'CPIAUCSL'\n",
    "\n",
    "# start and end dates for the data\n",
    "start_date = '2000-09-18'\n",
    "end_date = '2024-02-02'\n",
    "\n",
    "# fetch inflation data\n",
    "inflation_data = pdr.get_data_fred(series_id, start_date, end_date)\n",
    "\n",
    "# compute annualized inflation rate\n",
    "inflation_rate = inflation_data['CPIAUCSL'].pct_change(periods=12)\n",
    "\n",
    "# resample monthly inflation data to daily frequency (forward fill)\n",
    "inflation_rate = inflation_rate.resample('D').ffill\n",
    "\n",
    "sharpe_ratio = (annualized_return - inflation_rate/annualized_volatility\n",
    "print(\"annualized_return:\", annualized_return)\n",
    "print(\"risk_free_rate_annual:\", risk_free_rate)\n",
    "print(\"annualized_volatility:\", annualized_volatility)\n",
    "print(\"sharpe_ratio:\", sharpe_ratio) # greater than sp500 in absolute value => correct"
   ]
  }
 ],
 "metadata": {
  "kernelspec": {
   "display_name": "venv",
   "language": "python",
   "name": "venv"
  },
  "language_info": {
   "codemirror_mode": {
    "name": "ipython",
    "version": 3
   },
   "file_extension": ".py",
   "mimetype": "text/x-python",
   "name": "python",
   "nbconvert_exporter": "python",
   "pygments_lexer": "ipython3",
   "version": "3.11.5"
  }
 },
 "nbformat": 4,
 "nbformat_minor": 5
}
